{
  "nbformat": 4,
  "nbformat_minor": 0,
  "metadata": {
    "colab": {
      "name": "VQVAE_SOMVAE_KMeansInitilized_Training.ipynb",
      "provenance": []
    },
    "kernelspec": {
      "name": "python3",
      "display_name": "Python 3"
    },
    "language_info": {
      "name": "python"
    },
    "accelerator": "GPU"
  },
  "cells": [
    {
      "cell_type": "markdown",
      "metadata": {
        "id": "Sg7CXuxVTZp7"
      },
      "source": [
        "In this notebook, we load in the pre trained regular AE model, perform K means clustering on the encoder output and then use it to initialize the VQVAE or SOMVAE"
      ]
    },
    {
      "cell_type": "code",
      "metadata": {
        "colab": {
          "base_uri": "https://localhost:8080/"
        },
        "id": "5qw_glMOTlzq",
        "outputId": "b683871a-6142-4c48-f847-441bb172c6a8"
      },
      "source": [
        "from google.colab import drive\n",
        "drive.mount(\"/content/drive\",force_remount=True)"
      ],
      "execution_count": 1,
      "outputs": [
        {
          "output_type": "stream",
          "text": [
            "Mounted at /content/drive\n"
          ],
          "name": "stdout"
        }
      ]
    },
    {
      "cell_type": "code",
      "metadata": {
        "colab": {
          "base_uri": "https://localhost:8080/"
        },
        "id": "OEQV3chCToSz",
        "outputId": "18de6918-daf8-41ab-ee14-06f3d27571b2"
      },
      "source": [
        "gpu_info = !nvidia-smi\n",
        "gpu_info = '\\n'.join(gpu_info)\n",
        "if gpu_info.find('failed') >= 0:\n",
        "  print('Select the Runtime > \"Change runtime type\" menu to enable a GPU accelerator, ')\n",
        "  print('and then re-execute this cell.')\n",
        "else:\n",
        "  print(gpu_info)"
      ],
      "execution_count": 2,
      "outputs": [
        {
          "output_type": "stream",
          "text": [
            "Thu May 20 01:06:13 2021       \n",
            "+-----------------------------------------------------------------------------+\n",
            "| NVIDIA-SMI 465.19.01    Driver Version: 460.32.03    CUDA Version: 11.2     |\n",
            "|-------------------------------+----------------------+----------------------+\n",
            "| GPU  Name        Persistence-M| Bus-Id        Disp.A | Volatile Uncorr. ECC |\n",
            "| Fan  Temp  Perf  Pwr:Usage/Cap|         Memory-Usage | GPU-Util  Compute M. |\n",
            "|                               |                      |               MIG M. |\n",
            "|===============================+======================+======================|\n",
            "|   0  Tesla P100-PCIE...  Off  | 00000000:00:04.0 Off |                    0 |\n",
            "| N/A   38C    P0    27W / 250W |      0MiB / 16280MiB |      0%      Default |\n",
            "|                               |                      |                  N/A |\n",
            "+-------------------------------+----------------------+----------------------+\n",
            "                                                                               \n",
            "+-----------------------------------------------------------------------------+\n",
            "| Processes:                                                                  |\n",
            "|  GPU   GI   CI        PID   Type   Process name                  GPU Memory |\n",
            "|        ID   ID                                                   Usage      |\n",
            "|=============================================================================|\n",
            "|  No running processes found                                                 |\n",
            "+-----------------------------------------------------------------------------+\n"
          ],
          "name": "stdout"
        }
      ]
    },
    {
      "cell_type": "code",
      "metadata": {
        "id": "AW6v08hSTwjo"
      },
      "source": [
        "import os \n",
        "os.chdir('drive/MyDrive/OASIS_Data')"
      ],
      "execution_count": 3,
      "outputs": []
    },
    {
      "cell_type": "code",
      "metadata": {
        "id": "eR85ifU1Tyo6"
      },
      "source": [
        "import copy \n",
        "import time\n",
        "import datetime\n",
        "import numpy as np \n",
        "import pandas as pd \n",
        "import nibabel as nib\n",
        "import sklearn as skl\n",
        "from sklearn.model_selection import train_test_split\n",
        "import matplotlib.pyplot as plt"
      ],
      "execution_count": 4,
      "outputs": []
    },
    {
      "cell_type": "code",
      "metadata": {
        "id": "qTyujvs6T0my"
      },
      "source": [
        "import torch \n",
        "from torch.utils.data import Dataset, DataLoader\n",
        "from torch import nn \n",
        "from torch import optim"
      ],
      "execution_count": 5,
      "outputs": []
    },
    {
      "cell_type": "code",
      "metadata": {
        "colab": {
          "base_uri": "https://localhost:8080/"
        },
        "id": "aUqFMN1kT2bE",
        "outputId": "7864b45f-f3c4-407d-c047-ff30023d9686"
      },
      "source": [
        "pip install torchio nilearn"
      ],
      "execution_count": 6,
      "outputs": [
        {
          "output_type": "stream",
          "text": [
            "Collecting torchio\n",
            "\u001b[?25l  Downloading https://files.pythonhosted.org/packages/2f/ab/fe4db746dbc1bd4a1fa37b6c7bb8ab6568cd1cc2b324f8140015c6cb389e/torchio-0.18.39-py2.py3-none-any.whl (143kB)\n",
            "\u001b[K     |████████████████████████████████| 153kB 8.7MB/s \n",
            "\u001b[?25hCollecting nilearn\n",
            "\u001b[?25l  Downloading https://files.pythonhosted.org/packages/4a/bd/2ad86e2c00ecfe33b86f9f1f6d81de8e11724e822cdf1f5b2d0c21b787f1/nilearn-0.7.1-py3-none-any.whl (3.0MB)\n",
            "\u001b[K     |████████████████████████████████| 3.1MB 34.5MB/s \n",
            "\u001b[?25hCollecting Deprecated\n",
            "  Downloading https://files.pythonhosted.org/packages/fb/73/994edfcba74443146c84b91921fcc269374354118d4f452fb0c54c1cbb12/Deprecated-1.2.12-py2.py3-none-any.whl\n",
            "Requirement already satisfied: numpy in /usr/local/lib/python3.7/dist-packages (from torchio) (1.19.5)\n",
            "Requirement already satisfied: nibabel in /usr/local/lib/python3.7/dist-packages (from torchio) (3.0.2)\n",
            "Requirement already satisfied: torch>=1.1 in /usr/local/lib/python3.7/dist-packages (from torchio) (1.8.1+cu101)\n",
            "Requirement already satisfied: Click in /usr/local/lib/python3.7/dist-packages (from torchio) (8.0.0)\n",
            "Collecting SimpleITK<2\n",
            "\u001b[?25l  Downloading https://files.pythonhosted.org/packages/4a/ee/638b6bae2db10e5ef4ca94c95bb29ec25aa37a9d721b47f91077d7e985e0/SimpleITK-1.2.4-cp37-cp37m-manylinux1_x86_64.whl (42.5MB)\n",
            "\u001b[K     |████████████████████████████████| 42.5MB 118kB/s \n",
            "\u001b[?25hRequirement already satisfied: scipy in /usr/local/lib/python3.7/dist-packages (from torchio) (1.4.1)\n",
            "Requirement already satisfied: humanize in /usr/local/lib/python3.7/dist-packages (from torchio) (0.5.1)\n",
            "Requirement already satisfied: tqdm in /usr/local/lib/python3.7/dist-packages (from torchio) (4.41.1)\n",
            "Requirement already satisfied: requests>=2 in /usr/local/lib/python3.7/dist-packages (from nilearn) (2.23.0)\n",
            "Requirement already satisfied: scikit-learn>=0.19 in /usr/local/lib/python3.7/dist-packages (from nilearn) (0.22.2.post1)\n",
            "Requirement already satisfied: joblib>=0.12 in /usr/local/lib/python3.7/dist-packages (from nilearn) (1.0.1)\n",
            "Requirement already satisfied: pandas>=0.18.0 in /usr/local/lib/python3.7/dist-packages (from nilearn) (1.1.5)\n",
            "Requirement already satisfied: wrapt<2,>=1.10 in /usr/local/lib/python3.7/dist-packages (from Deprecated->torchio) (1.12.1)\n",
            "Requirement already satisfied: typing-extensions in /usr/local/lib/python3.7/dist-packages (from torch>=1.1->torchio) (3.7.4.3)\n",
            "Requirement already satisfied: idna<3,>=2.5 in /usr/local/lib/python3.7/dist-packages (from requests>=2->nilearn) (2.10)\n",
            "Requirement already satisfied: certifi>=2017.4.17 in /usr/local/lib/python3.7/dist-packages (from requests>=2->nilearn) (2020.12.5)\n",
            "Requirement already satisfied: urllib3!=1.25.0,!=1.25.1,<1.26,>=1.21.1 in /usr/local/lib/python3.7/dist-packages (from requests>=2->nilearn) (1.24.3)\n",
            "Requirement already satisfied: chardet<4,>=3.0.2 in /usr/local/lib/python3.7/dist-packages (from requests>=2->nilearn) (3.0.4)\n",
            "Requirement already satisfied: python-dateutil>=2.7.3 in /usr/local/lib/python3.7/dist-packages (from pandas>=0.18.0->nilearn) (2.8.1)\n",
            "Requirement already satisfied: pytz>=2017.2 in /usr/local/lib/python3.7/dist-packages (from pandas>=0.18.0->nilearn) (2018.9)\n",
            "Requirement already satisfied: six>=1.5 in /usr/local/lib/python3.7/dist-packages (from python-dateutil>=2.7.3->pandas>=0.18.0->nilearn) (1.15.0)\n",
            "Installing collected packages: Deprecated, SimpleITK, torchio, nilearn\n",
            "Successfully installed Deprecated-1.2.12 SimpleITK-1.2.4 nilearn-0.7.1 torchio-0.18.39\n"
          ],
          "name": "stdout"
        }
      ]
    },
    {
      "cell_type": "code",
      "metadata": {
        "id": "rP_e2UMpT4Hr"
      },
      "source": [
        "import torchio as tio "
      ],
      "execution_count": 7,
      "outputs": []
    },
    {
      "cell_type": "code",
      "metadata": {
        "id": "LORk1nG1T6LM"
      },
      "source": [
        "os.chdir(\"MRI_SOMVAE\")\n",
        "from OASISDataset import *\n",
        "from FullModels import *\n",
        "from TrainingTesting import *\n",
        "from ExtraMetrics import *\n",
        "os.chdir(\"..\")"
      ],
      "execution_count": 8,
      "outputs": []
    },
    {
      "cell_type": "markdown",
      "metadata": {
        "id": "44Cmh6SkUAMl"
      },
      "source": [
        "Split data into train and val (same seed as before) "
      ]
    },
    {
      "cell_type": "code",
      "metadata": {
        "id": "TZyflC5hUDhE"
      },
      "source": [
        "fulltrainlist = pd.read_csv(\"oasis_ctrl_training.csv\")\n",
        "\n",
        "trainlist,vallist = train_test_split(fulltrainlist, random_state=128, test_size=0.15)\n",
        "\n",
        "folder = \"ctrl_original_resolution\""
      ],
      "execution_count": 9,
      "outputs": []
    },
    {
      "cell_type": "code",
      "metadata": {
        "colab": {
          "base_uri": "https://localhost:8080/"
        },
        "id": "0U01ZS_6UEcq",
        "outputId": "682bd220-8038-443a-e3fc-aafc7fbad904"
      },
      "source": [
        "start = time.time()\n",
        "traindataset = OASISDataset_Colab(folder,trainlist)\n",
        "print(time.time()-start)\n",
        "valdataset = OASISDataset_Colab(folder,vallist)\n",
        "print(time.time()-start)"
      ],
      "execution_count": 10,
      "outputs": [
        {
          "output_type": "stream",
          "text": [
            "153.760835647583\n",
            "180.37988877296448\n"
          ],
          "name": "stdout"
        }
      ]
    },
    {
      "cell_type": "code",
      "metadata": {
        "id": "QlLw4aGHUGir"
      },
      "source": [
        "batch_size=32\n",
        "\n",
        "train_dataloader = DataLoader(traindataset,batch_size=batch_size,shuffle=True)\n",
        "val_dataloader = DataLoader(valdataset,batch_size=len(valdataset),shuffle=True)"
      ],
      "execution_count": 12,
      "outputs": []
    },
    {
      "cell_type": "code",
      "metadata": {
        "colab": {
          "base_uri": "https://localhost:8080/"
        },
        "id": "oSGHQHYVUIRh",
        "outputId": "34e108bd-b1ed-4660-8c05-60518174e6c2"
      },
      "source": [
        "AEcheckpoint = torch.load(\"VanillaAE32_Run2_4filters_051921.tar\")\n",
        "\n",
        "RegularAE = VanillaAE(num_channels=1,embedding_dim=32,num_filters=4,batchnorm=True)\n",
        "RegularAE.load_state_dict(AEcheckpoint[\"model_state_dict\"])"
      ],
      "execution_count": 13,
      "outputs": [
        {
          "output_type": "execute_result",
          "data": {
            "text/plain": [
              "<All keys matched successfully>"
            ]
          },
          "metadata": {
            "tags": []
          },
          "execution_count": 13
        }
      ]
    },
    {
      "cell_type": "markdown",
      "metadata": {
        "id": "5-7y1vvoWyfT"
      },
      "source": [
        "Train a K Means model on the encoder output of 1 mini-batch "
      ]
    },
    {
      "cell_type": "code",
      "metadata": {
        "id": "O1xaepdwW4oO"
      },
      "source": [
        "Xin1,Xout1 = next(iter(train_dataloader))\n",
        "Xenc1 = RegularAE.encoder(Xin1)\n",
        "Xenc1_flat = Xenc1.reshape(Xenc1.shape[0],Xenc1.shape[1],-1).permute(0,2,1).reshape(-1,Xenc1.shape[1]).detach().numpy()"
      ],
      "execution_count": 14,
      "outputs": []
    },
    {
      "cell_type": "code",
      "metadata": {
        "id": "Imu7WL1QX_2B"
      },
      "source": [
        "from sklearn.cluster import KMeans"
      ],
      "execution_count": 16,
      "outputs": []
    },
    {
      "cell_type": "code",
      "metadata": {
        "colab": {
          "base_uri": "https://localhost:8080/"
        },
        "id": "fVY3d2FgXwZd",
        "outputId": "57929764-416f-4e43-992c-039452a71cd1"
      },
      "source": [
        "start = time.time()\n",
        "Kmeans = KMeans(n_clusters=256)\n",
        "Kmeans.fit(Xenc1_flat)\n",
        "centers_start = torch.from_numpy(Kmeans.cluster_centers_)\n",
        "print(time.time() - start)"
      ],
      "execution_count": 17,
      "outputs": [
        {
          "output_type": "stream",
          "text": [
            "49.576647996902466\n"
          ],
          "name": "stdout"
        }
      ]
    },
    {
      "cell_type": "code",
      "metadata": {
        "colab": {
          "base_uri": "https://localhost:8080/"
        },
        "id": "dG6PuXDCX5LE",
        "outputId": "18992d45-acad-4d5d-c6c3-faff2a96a89c"
      },
      "source": [
        "centers_start"
      ],
      "execution_count": 18,
      "outputs": [
        {
          "output_type": "execute_result",
          "data": {
            "text/plain": [
              "tensor([[  2.2105,   0.3225,  -0.7218,  ...,   0.8396, -12.1103,   2.2706],\n",
              "        [ -3.1668,  -2.4273,  -0.7352,  ...,   1.6748, -13.2872,  -1.2167],\n",
              "        [  0.2619,  -0.7764,  -0.9722,  ...,   1.5657,  -3.5245,   2.3292],\n",
              "        ...,\n",
              "        [  0.6898,   0.1373,  -1.1828,  ...,   1.6635, -13.4390,   1.1649],\n",
              "        [  1.0317,  -2.0326,   1.0812,  ...,   2.7094,  -4.3716,   3.3821],\n",
              "        [  0.9331,  -1.7593,   0.2445,  ...,   1.1063,  -5.2692,   1.8137]])"
            ]
          },
          "metadata": {
            "tags": []
          },
          "execution_count": 18
        }
      ]
    },
    {
      "cell_type": "markdown",
      "metadata": {
        "id": "41uqSUpFY5IL"
      },
      "source": [
        "Initialize SOM VAE and copy in the weights from the AE"
      ]
    },
    {
      "cell_type": "code",
      "metadata": {
        "id": "2SKYGuGvYH0N"
      },
      "source": [
        "SOMVAE = SOMVAE3D(num_channels = 1,num_filters = 4,embedding_dim = 32, num_embeddings = 256, som_h = 16,som_w = 16,alpha = 6, beta =1,batchnorm=True)\n",
        "SOMVAE.encoder = copy.deepcopy(RegularAE.encoder)\n",
        "SOMVAE.decoder = copy.deepcopy(RegularAE.decoder)"
      ],
      "execution_count": 20,
      "outputs": []
    },
    {
      "cell_type": "code",
      "metadata": {
        "colab": {
          "base_uri": "https://localhost:8080/"
        },
        "id": "2qCzHpGTY_5h",
        "outputId": "9683dd82-cfdf-4572-a7d0-1d73277f63d3"
      },
      "source": [
        "SOMVAE.quantization._embedding.weight"
      ],
      "execution_count": 21,
      "outputs": [
        {
          "output_type": "execute_result",
          "data": {
            "text/plain": [
              "Parameter containing:\n",
              "tensor([[-1.1762,  0.9742, -2.1251,  ...,  1.5123, -1.6340,  0.5663],\n",
              "        [ 0.1179,  0.3514, -0.7043,  ...,  1.6982,  1.3819, -0.5051],\n",
              "        [ 0.6513,  1.2124,  0.6125,  ..., -0.9884,  1.0337,  0.8469],\n",
              "        ...,\n",
              "        [-1.0118,  1.0978, -0.4505,  ...,  1.2020, -1.3886,  0.8329],\n",
              "        [-0.0281, -2.3820, -0.6618,  ...,  0.3050, -0.2173,  0.8830],\n",
              "        [ 0.0293,  1.1003, -1.8277,  ...,  0.4341,  0.9280, -0.8262]],\n",
              "       requires_grad=True)"
            ]
          },
          "metadata": {
            "tags": []
          },
          "execution_count": 21
        }
      ]
    },
    {
      "cell_type": "code",
      "metadata": {
        "id": "9skrFnDtZ1jg"
      },
      "source": [
        "SOMVAE.quantization._embedding.weight.data = copy.deepcopy(centers_start)"
      ],
      "execution_count": 22,
      "outputs": []
    },
    {
      "cell_type": "markdown",
      "metadata": {
        "id": "7k0pS1YQbeb8"
      },
      "source": [
        "Train the SOM-VAE"
      ]
    },
    {
      "cell_type": "code",
      "metadata": {
        "id": "blPGPMNKawsU"
      },
      "source": [
        "optimizer = optim.Adam(SOMVAE.parameters(),lr=0.005)\n",
        "\n",
        "max_epochs = 10\n",
        "train_losses = np.zeros(max_epochs)\n",
        "train_losses[:] = np.NaN \n",
        "val_losses = np.zeros(max_epochs)\n",
        "val_losses[:] = np.NaN \n",
        "\n",
        "train_PSNR = copy.deepcopy(train_losses)\n",
        "val_PSNR = copy.deepcopy(val_losses)\n",
        "\n",
        "train_SSIM = copy.deepcopy(train_losses)\n",
        "val_SSIM = copy.deepcopy(val_losses)\n",
        "\n",
        "loss_function = nn.MSELoss(reduction=\"mean\")"
      ],
      "execution_count": 24,
      "outputs": []
    },
    {
      "cell_type": "code",
      "metadata": {
        "colab": {
          "base_uri": "https://localhost:8080/"
        },
        "id": "VtXMuEC6bdKf",
        "outputId": "065a06a8-bc02-40c6-b634-514df4cd4f8d"
      },
      "source": [
        "for epoch in range(max_epochs):\n",
        "\n",
        "    t0 = time.time()\n",
        "\n",
        "    #train_losses[epoch] = train(NewVQVAE,optimizer,loss_function,train_dataloader,\n",
        "    #                epoch,log_every_num_batches=5)\n",
        "    \n",
        "    train_losses[epoch] = train_NewVQVAE(SOMVAE,optimizer,loss_function,train_dataloader, epoch,log_every_num_batches=5,lam_ze = 0.8, lam_zq = 0.2)\n",
        "    \n",
        "    #val_losses[epoch] = test(NewVQVAE,loss_function,val_dataloader)\n",
        "    val_losses[epoch] = test_NewVQVAE(SOMVAE,loss_function,val_dataloader)\n",
        "\n",
        "    temp_trainSSIM = []\n",
        "    temp_trainPSNR = []\n",
        "    temp_valSSIM = []\n",
        "    temp_valPSNR = []\n",
        "\n",
        "    with torch.no_grad():\n",
        "      use_cuda = torch.cuda.is_available()\n",
        "      device = torch.device(\"cuda:0\" if use_cuda else \"cpu\")\n",
        "      torch.backends.cudnn.benchmark = True\n",
        "      if use_cuda:\n",
        "        if torch.cuda.device_count() > 1:\n",
        "          print(\"Let's use\", torch.cuda.device_count(), \"GPUs!\")\n",
        "          # dim = 0 [30, xxx] -> [10, ...], [10, ...], [10, ...] on 3 GPUs\n",
        "          SOMVAE = nn.DataParallel(SOMVAE) #NewVQVAE = nn.DataParallel(NewVQVAE)\n",
        "      SOMVAE.to(device)#NewVQVAE.to(device)\n",
        "      SOMVAE.eval()#NewVQVAE.eval()\n",
        "      for Xin_train,Xout_train in train_dataloader:\n",
        "          Xin_train,Xout_train = Xin_train.to(device), Xout_train.to(device)\n",
        "          Xrecon_train = SOMVAE(Xin_train)[\"x_out_ze\"]#NewVQVAE(Xin_train)[\"x_out_ze\"]\n",
        "          train_psnr_batch = PSNR(Xout_train,Xrecon_train)\n",
        "          temp_trainPSNR.append(train_psnr_batch)\n",
        "          #if epoch % 2 == 0:\n",
        "          train_ssim_batch = SSIM(Xout_train,Xrecon_train)\n",
        "          temp_trainSSIM.append(train_ssim_batch)\n",
        "      train_PSNR[epoch] = torch.cat(temp_trainPSNR).mean().item()\n",
        "      train_SSIM[epoch] = torch.cat(temp_trainSSIM).mean().item()\n",
        "      \n",
        "      for Xin_val,Xout_val in val_dataloader:\n",
        "          Xin_val,Xout_val = Xin_val.to(device),Xout_val.to(device)\n",
        "          Xrecon_val = SOMVAE(Xin_val)[\"x_out_ze\"] #NewVQVAE(Xin_val)[\"x_out_ze\"]\n",
        "          val_psnr_batch = PSNR(Xout_val,Xrecon_val)\n",
        "          temp_valPSNR.append(val_psnr_batch)\n",
        "          #if epoch % 2 ==0:\n",
        "          val_ssim_batch = SSIM(Xout_val,Xrecon_val)\n",
        "          temp_valSSIM.append(val_ssim_batch)\n",
        "      val_PSNR[epoch] = torch.cat(temp_valPSNR).mean().item()\n",
        "      val_SSIM[epoch] = torch.cat(temp_valSSIM).mean().item()\n",
        "\n",
        "    dtepoch = time.time() - t0\n",
        "\n",
        "    print('====> Total time elapsed for this epoch: {:s}'.format(str(datetime.timedelta(seconds=int(dtepoch)))))"
      ],
      "execution_count": 25,
      "outputs": [
        {
          "output_type": "stream",
          "text": [
            "====> Begin epoch 1\n",
            "\n",
            "Train Epoch: 1 [1/4 (25%)]\tLoss: 9.374938\tET - 0:01:00\n",
            "\n",
            "====> Epoch: 1 Average loss: 9.4711\tTime elapsed: 0:00:38\n",
            "====> Test set loss: 53.4935\tTime elapsed: 0:00:08\n",
            "\n",
            "====> Total time elapsed for this epoch: 0:01:47\n",
            "====> Begin epoch 2\n",
            "\n",
            "Train Epoch: 2 [1/4 (25%)]\tLoss: 9.590889\tET - 0:00:26\n",
            "\n",
            "====> Epoch: 2 Average loss: 8.5510\tTime elapsed: 0:00:34\n",
            "====> Test set loss: 23.4151\tTime elapsed: 0:00:05\n",
            "\n",
            "====> Total time elapsed for this epoch: 0:01:32\n",
            "====> Begin epoch 3\n",
            "\n",
            "Train Epoch: 3 [1/4 (25%)]\tLoss: 8.384752\tET - 0:00:26\n",
            "\n",
            "====> Epoch: 3 Average loss: 8.4165\tTime elapsed: 0:00:34\n",
            "====> Test set loss: 17.3853\tTime elapsed: 0:00:05\n",
            "\n",
            "====> Total time elapsed for this epoch: 0:01:32\n",
            "====> Begin epoch 4\n",
            "\n",
            "Train Epoch: 4 [1/4 (25%)]\tLoss: 8.374429\tET - 0:00:26\n",
            "\n",
            "====> Epoch: 4 Average loss: 8.0770\tTime elapsed: 0:00:34\n",
            "====> Test set loss: 18.2166\tTime elapsed: 0:00:05\n",
            "\n",
            "====> Total time elapsed for this epoch: 0:01:32\n",
            "====> Begin epoch 5\n",
            "\n",
            "Train Epoch: 5 [1/4 (25%)]\tLoss: 7.981758\tET - 0:00:26\n",
            "\n",
            "====> Epoch: 5 Average loss: 7.7814\tTime elapsed: 0:00:34\n",
            "====> Test set loss: 13.0792\tTime elapsed: 0:00:05\n",
            "\n",
            "====> Total time elapsed for this epoch: 0:01:32\n",
            "====> Begin epoch 6\n",
            "\n",
            "Train Epoch: 6 [1/4 (25%)]\tLoss: 7.499508\tET - 0:00:26\n",
            "\n",
            "====> Epoch: 6 Average loss: 7.3682\tTime elapsed: 0:00:34\n",
            "====> Test set loss: 11.8314\tTime elapsed: 0:00:05\n",
            "\n",
            "====> Total time elapsed for this epoch: 0:01:32\n",
            "====> Begin epoch 7\n",
            "\n",
            "Train Epoch: 7 [1/4 (25%)]\tLoss: 7.377338\tET - 0:00:26\n",
            "\n",
            "====> Epoch: 7 Average loss: 7.4056\tTime elapsed: 0:00:34\n",
            "====> Test set loss: 11.0686\tTime elapsed: 0:00:05\n",
            "\n",
            "====> Total time elapsed for this epoch: 0:01:32\n",
            "====> Begin epoch 8\n",
            "\n",
            "Train Epoch: 8 [1/4 (25%)]\tLoss: 7.297769\tET - 0:00:26\n",
            "\n",
            "====> Epoch: 8 Average loss: 7.2259\tTime elapsed: 0:00:34\n",
            "====> Test set loss: 10.4494\tTime elapsed: 0:00:05\n",
            "\n",
            "====> Total time elapsed for this epoch: 0:01:32\n",
            "====> Begin epoch 9\n",
            "\n",
            "Train Epoch: 9 [1/4 (25%)]\tLoss: 7.176884\tET - 0:00:26\n",
            "\n",
            "====> Epoch: 9 Average loss: 7.2064\tTime elapsed: 0:00:34\n",
            "====> Test set loss: 10.5459\tTime elapsed: 0:00:05\n",
            "\n",
            "====> Total time elapsed for this epoch: 0:01:31\n",
            "====> Begin epoch 10\n",
            "\n",
            "Train Epoch: 10 [1/4 (25%)]\tLoss: 7.204718\tET - 0:00:26\n",
            "\n",
            "====> Epoch: 10 Average loss: 7.1254\tTime elapsed: 0:00:34\n",
            "====> Test set loss: 9.9895\tTime elapsed: 0:00:05\n",
            "\n",
            "====> Total time elapsed for this epoch: 0:01:32\n"
          ],
          "name": "stdout"
        }
      ]
    },
    {
      "cell_type": "code",
      "metadata": {
        "colab": {
          "base_uri": "https://localhost:8080/",
          "height": 359
        },
        "id": "tqyaBqZmfvl_",
        "outputId": "4988697f-81ba-467f-e4ed-0d8fc49c5aca"
      },
      "source": [
        "SOMresult = pd.DataFrame({\"train_losses\":train_losses,\"train_SSIM\":train_SSIM,\"train_PSNR\":train_PSNR,\n",
        "                                     \"val_losses\":val_losses,\"val_SSIM\":val_SSIM,\"val_PSNR\":val_PSNR})\n",
        "SOMresult"
      ],
      "execution_count": 26,
      "outputs": [
        {
          "output_type": "execute_result",
          "data": {
            "text/html": [
              "<div>\n",
              "<style scoped>\n",
              "    .dataframe tbody tr th:only-of-type {\n",
              "        vertical-align: middle;\n",
              "    }\n",
              "\n",
              "    .dataframe tbody tr th {\n",
              "        vertical-align: top;\n",
              "    }\n",
              "\n",
              "    .dataframe thead th {\n",
              "        text-align: right;\n",
              "    }\n",
              "</style>\n",
              "<table border=\"1\" class=\"dataframe\">\n",
              "  <thead>\n",
              "    <tr style=\"text-align: right;\">\n",
              "      <th></th>\n",
              "      <th>train_losses</th>\n",
              "      <th>train_SSIM</th>\n",
              "      <th>train_PSNR</th>\n",
              "      <th>val_losses</th>\n",
              "      <th>val_SSIM</th>\n",
              "      <th>val_PSNR</th>\n",
              "    </tr>\n",
              "  </thead>\n",
              "  <tbody>\n",
              "    <tr>\n",
              "      <th>0</th>\n",
              "      <td>9.471082</td>\n",
              "      <td>0.506771</td>\n",
              "      <td>15.423364</td>\n",
              "      <td>53.493514</td>\n",
              "      <td>0.514116</td>\n",
              "      <td>16.044701</td>\n",
              "    </tr>\n",
              "    <tr>\n",
              "      <th>1</th>\n",
              "      <td>8.550968</td>\n",
              "      <td>0.558842</td>\n",
              "      <td>18.464157</td>\n",
              "      <td>23.415148</td>\n",
              "      <td>0.563682</td>\n",
              "      <td>19.119915</td>\n",
              "    </tr>\n",
              "    <tr>\n",
              "      <th>2</th>\n",
              "      <td>8.416471</td>\n",
              "      <td>0.538246</td>\n",
              "      <td>14.166626</td>\n",
              "      <td>17.385339</td>\n",
              "      <td>0.547245</td>\n",
              "      <td>14.800964</td>\n",
              "    </tr>\n",
              "    <tr>\n",
              "      <th>3</th>\n",
              "      <td>8.077001</td>\n",
              "      <td>0.507532</td>\n",
              "      <td>14.102262</td>\n",
              "      <td>18.216553</td>\n",
              "      <td>0.516963</td>\n",
              "      <td>14.745164</td>\n",
              "    </tr>\n",
              "    <tr>\n",
              "      <th>4</th>\n",
              "      <td>7.781376</td>\n",
              "      <td>0.508886</td>\n",
              "      <td>18.193150</td>\n",
              "      <td>13.079228</td>\n",
              "      <td>0.519922</td>\n",
              "      <td>18.882824</td>\n",
              "    </tr>\n",
              "    <tr>\n",
              "      <th>5</th>\n",
              "      <td>7.368234</td>\n",
              "      <td>0.572097</td>\n",
              "      <td>18.713560</td>\n",
              "      <td>11.831404</td>\n",
              "      <td>0.581213</td>\n",
              "      <td>19.415426</td>\n",
              "    </tr>\n",
              "    <tr>\n",
              "      <th>6</th>\n",
              "      <td>7.405591</td>\n",
              "      <td>0.575397</td>\n",
              "      <td>19.310278</td>\n",
              "      <td>11.068555</td>\n",
              "      <td>0.583951</td>\n",
              "      <td>20.027122</td>\n",
              "    </tr>\n",
              "    <tr>\n",
              "      <th>7</th>\n",
              "      <td>7.225915</td>\n",
              "      <td>0.577973</td>\n",
              "      <td>19.299486</td>\n",
              "      <td>10.449367</td>\n",
              "      <td>0.585714</td>\n",
              "      <td>20.005871</td>\n",
              "    </tr>\n",
              "    <tr>\n",
              "      <th>8</th>\n",
              "      <td>7.206408</td>\n",
              "      <td>0.594227</td>\n",
              "      <td>19.392160</td>\n",
              "      <td>10.545882</td>\n",
              "      <td>0.601502</td>\n",
              "      <td>20.109522</td>\n",
              "    </tr>\n",
              "    <tr>\n",
              "      <th>9</th>\n",
              "      <td>7.125371</td>\n",
              "      <td>0.592208</td>\n",
              "      <td>19.319260</td>\n",
              "      <td>9.989473</td>\n",
              "      <td>0.599571</td>\n",
              "      <td>20.032866</td>\n",
              "    </tr>\n",
              "  </tbody>\n",
              "</table>\n",
              "</div>"
            ],
            "text/plain": [
              "   train_losses  train_SSIM  train_PSNR  val_losses  val_SSIM   val_PSNR\n",
              "0      9.471082    0.506771   15.423364   53.493514  0.514116  16.044701\n",
              "1      8.550968    0.558842   18.464157   23.415148  0.563682  19.119915\n",
              "2      8.416471    0.538246   14.166626   17.385339  0.547245  14.800964\n",
              "3      8.077001    0.507532   14.102262   18.216553  0.516963  14.745164\n",
              "4      7.781376    0.508886   18.193150   13.079228  0.519922  18.882824\n",
              "5      7.368234    0.572097   18.713560   11.831404  0.581213  19.415426\n",
              "6      7.405591    0.575397   19.310278   11.068555  0.583951  20.027122\n",
              "7      7.225915    0.577973   19.299486   10.449367  0.585714  20.005871\n",
              "8      7.206408    0.594227   19.392160   10.545882  0.601502  20.109522\n",
              "9      7.125371    0.592208   19.319260    9.989473  0.599571  20.032866"
            ]
          },
          "metadata": {
            "tags": []
          },
          "execution_count": 26
        }
      ]
    }
  ]
}